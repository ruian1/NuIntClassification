{
 "cells": [
  {
   "cell_type": "code",
   "execution_count": 1,
   "id": "advanced-secret",
   "metadata": {},
   "outputs": [],
   "source": [
    "from dataset import *\n",
    "import util\n",
    "import numpy as np\n",
    "import sys\n",
    "import os.path\n",
    "import json, pickle\n",
    "import argparse\n",
    "from glob import glob\n",
    "from collections import Mapping, defaultdict\n",
    "import time\n",
    "import torch.utils.tensorboard as tb\n",
    "import datetime\n",
    "\n",
    "from sklearn.metrics import roc_auc_score, accuracy_score, f1_score, confusion_matrix\n",
    "from scipy.stats import spearmanr\n",
    "\n",
    "import torch\n",
    "from torch.utils.data import Dataset, DataLoader\n",
    "from torch import nn\n"
   ]
  },
  {
   "cell_type": "code",
   "execution_count": 2,
   "id": "tender-circumstances",
   "metadata": {},
   "outputs": [
    {
     "name": "stdout",
     "output_type": "stream",
     "text": [
      "['ChargeFirstPulse', 'ChargeMaxPulse', 'ChargeLastPulse', 'TimeDeltaFirstPulse', 'TimeFirstPulse', 'TotalCharge', 'TimeLastPulse', 'TimeMaxPulse', 'VertexX', 'VertexY', 'VertexZ']\n",
      "feature_memmap_path is, ./memmaps/hd5_features_cf7b1ea579843180e3862e551e11c63f9cab6d29_41c7e33d70e4525509c75caf11e7d287c91bbf64\n",
      "['ChargeFirstPulse', 'ChargeMaxPulse', 'ChargeLastPulse', 'TimeDeltaFirstPulse', 'TimeFirstPulse', 'TotalCharge', 'TimeLastPulse', 'TimeMaxPulse', 'VertexX', 'VertexY', 'VertexZ']\n",
      "feature_memmap_path is, ./memmaps/hd5_features_bf174b37b099c9c95096a1335a15b758b04f79ea_601d7102f78e7cc0d89ced6ebf98b4077c4e0af5\n",
      "['ChargeFirstPulse', 'ChargeMaxPulse', 'ChargeLastPulse', 'TimeDeltaFirstPulse', 'TimeFirstPulse', 'TotalCharge', 'TimeLastPulse', 'TimeMaxPulse', 'VertexX', 'VertexY', 'VertexZ']\n",
      "feature_memmap_path is, ./memmaps/hd5_features_6af8f7d201e11c43b51cbd19f186812662265847_f7e4ee8ab1f6b3fd004148db6339b5edfdb7f19b\n"
     ]
    }
   ],
   "source": [
    "# default_settings_path=\"./default_settings.json\"\n",
    "default_settings_path=\"./test.json\"\n",
    "default_settings_path=\"./test_feb15.json\"\n",
    "default_settings_path=\"./test_feb16.json\"\n",
    "\n",
    "\n",
    "with open(default_settings_path) as f:\n",
    "    settings = json.load(f)\n",
    "\n",
    "\n",
    "data_train, data_val, data_test = util.dataset_from_config(settings)\n"
   ]
  },
  {
   "cell_type": "code",
   "execution_count": 4,
   "id": "colonial-canal",
   "metadata": {},
   "outputs": [],
   "source": [
    "batch_size = 6"
   ]
  },
  {
   "cell_type": "code",
   "execution_count": 5,
   "id": "adapted-terrorist",
   "metadata": {},
   "outputs": [],
   "source": [
    "train_loader = DataLoader(data_train, batch_size=batch_size, shuffle=settings['dataset']['shuffle'], collate_fn=data_train.collate, drop_last=False)\n",
    "val_loader = DataLoader(data_val, batch_size=batch_size, shuffle=settings['dataset']['shuffle'], collate_fn=data_val.collate, drop_last=False)\n",
    "test_loader = DataLoader(data_test, batch_size=batch_size, shuffle=settings['dataset']['shuffle'], collate_fn=data_test.collate, drop_last=False)\n"
   ]
  },
  {
   "cell_type": "code",
   "execution_count": 6,
   "id": "coupled-health",
   "metadata": {},
   "outputs": [
    {
     "name": "stdout",
     "output_type": "stream",
     "text": [
      "561247\n",
      "70156\n",
      "70156\n"
     ]
    }
   ],
   "source": [
    "print(train_loader.__len__())\n",
    "print(val_loader.__len__())\n",
    "print(test_loader.__len__())"
   ]
  },
  {
   "cell_type": "code",
   "execution_count": null,
   "id": "auburn-optimization",
   "metadata": {
    "scrolled": true
   },
   "outputs": [],
   "source": [
    "# import importlib\n",
    "# importlib.reload(graph)\n",
    "\n",
    "for batch_idx, (inputs, targets, weights) in enumerate(train_loader):\n",
    "#     print(batch_idx)\n",
    "#     print(type(inputs))\n",
    "#     print(np.array(inputs).shape)\n",
    "#     print(inputs[0].shape)\n",
    "#     print(inputs[1].shape)\n",
    "#     print(inputs[2].shape)\n",
    "#     #     print(weights)\n",
    "\n",
    "#     if (torch.sum(inputs[0])==0): print(\"!\")\n",
    "    print(targets)"
   ]
  },
  {
   "cell_type": "code",
   "execution_count": null,
   "id": "apart-india",
   "metadata": {},
   "outputs": [],
   "source": [
    "for i in range(data_val.__len__()):\n",
    "# for i in range(3):\n",
    "    x, c, targets, weights = data_train[i]\n",
    "    if np.sum(np.array(x)) : print(np.sum(np.array(x)))\n",
    "#     print(targets)"
   ]
  },
  {
   "cell_type": "code",
   "execution_count": null,
   "id": "polish-movie",
   "metadata": {},
   "outputs": [],
   "source": [
    "print(i)"
   ]
  },
  {
   "cell_type": "code",
   "execution_count": null,
   "id": "threatened-conclusion",
   "metadata": {},
   "outputs": [],
   "source": []
  }
 ],
 "metadata": {
  "kernelspec": {
   "display_name": "Python 3",
   "language": "python",
   "name": "python3"
  },
  "language_info": {
   "codemirror_mode": {
    "name": "ipython",
    "version": 3
   },
   "file_extension": ".py",
   "mimetype": "text/x-python",
   "name": "python",
   "nbconvert_exporter": "python",
   "pygments_lexer": "ipython3",
   "version": "3.7.0"
  }
 },
 "nbformat": 4,
 "nbformat_minor": 5
}
